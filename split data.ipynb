{
 "cells": [
  {
   "cell_type": "code",
   "execution_count": 18,
   "id": "27043735",
   "metadata": {},
   "outputs": [
    {
     "name": "stdout",
     "output_type": "stream",
     "text": [
      "Total images:  35\n",
      "Training:  24\n",
      "Validation:  5\n",
      "Testing:  6\n",
      "Total images:  41\n",
      "Training:  28\n",
      "Validation:  6\n",
      "Testing:  7\n",
      "Total images:  262\n",
      "Training:  183\n",
      "Validation:  39\n",
      "Testing:  40\n",
      "Total images:  37\n",
      "Training:  25\n",
      "Validation:  6\n",
      "Testing:  6\n",
      "Total images:  44\n",
      "Training:  30\n",
      "Validation:  7\n",
      "Testing:  7\n",
      "Total images:  49\n",
      "Training:  34\n",
      "Validation:  7\n",
      "Testing:  8\n",
      "Total images:  44\n",
      "Training:  30\n",
      "Validation:  7\n",
      "Testing:  7\n",
      "Total images:  44\n",
      "Training:  30\n",
      "Validation:  7\n",
      "Testing:  7\n",
      "Total images:  46\n",
      "Training:  32\n",
      "Validation:  7\n",
      "Testing:  7\n",
      "Total images:  277\n",
      "Training:  193\n",
      "Validation:  42\n",
      "Testing:  42\n"
     ]
    }
   ],
   "source": [
    "import os\n",
    "\n",
    "import numpy as np\n",
    "\n",
    "import shutil\n",
    "\n",
    "rootdir= \"C:\\\\Users\\\\rajno\\\\Desktop\\\\pokemon-detection-and-classification\\\\data\"\n",
    "\n",
    "classes = ['Abra', 'Arcanine', 'Bulbasaur','Eevee', 'Gastly', 'Gengar', 'Grimer', 'Growlithe', 'Jigglypuff', 'Pikachu']\n",
    "\n",
    "ratio = 0.15\n",
    "    \n",
    "for i in classes:\n",
    "\n",
    "    os.makedirs(rootdir +'/train/' + i)\n",
    "\n",
    "    os.makedirs(rootdir +'/test/' + i)\n",
    "\n",
    "    os.makedirs(rootdir +'/validation/' + i)\n",
    "\n",
    "    source = rootdir + '/' + i\n",
    "\n",
    "    allFileNames = os.listdir(source)\n",
    "\n",
    "    np.random.shuffle(allFileNames)\n",
    "\n",
    "    train_FileNames, validation_FileNames, test_FileNames = np.split(np.array(allFileNames),\n",
    "                                                          [int(len(allFileNames)* (1 - (ratio + ratio))), \n",
    "                                                           int(len(allFileNames)* (1 - ratio))])\n",
    "\n",
    "\n",
    "    train_FileNames = [source+'/'+ name for name in train_FileNames.tolist()]\n",
    "    test_FileNames = [source+'/' + name for name in test_FileNames.tolist()]\n",
    "    validation_FileNames = [source+'/' + name for name in validation_FileNames.tolist()]\n",
    "    \n",
    "    print('Total images: ', len(allFileNames))\n",
    "    print('Training: ', len(train_FileNames))\n",
    "    print('Validation: ', len(validation_FileNames))\n",
    "    print('Testing: ', len(test_FileNames))\n",
    "\n",
    "    for name in train_FileNames:\n",
    "      shutil.copy(name, rootdir +'/train/' + i)\n",
    "\n",
    "    for name in test_FileNames:\n",
    "      shutil.copy(name, rootdir +'/test/' + i)\n",
    "\n",
    "    for name in validation_FileNames:\n",
    "      shutil.copy(name, rootdir +'/validation/' + i)"
   ]
  },
  {
   "cell_type": "code",
   "execution_count": null,
   "id": "2c3e958f",
   "metadata": {},
   "outputs": [],
   "source": []
  },
  {
   "cell_type": "code",
   "execution_count": null,
   "id": "65aef972",
   "metadata": {},
   "outputs": [],
   "source": []
  },
  {
   "cell_type": "code",
   "execution_count": null,
   "id": "353f9f8b",
   "metadata": {},
   "outputs": [],
   "source": []
  },
  {
   "cell_type": "code",
   "execution_count": null,
   "id": "f9ccb732",
   "metadata": {},
   "outputs": [],
   "source": []
  },
  {
   "cell_type": "code",
   "execution_count": null,
   "id": "e826ac54",
   "metadata": {},
   "outputs": [],
   "source": []
  },
  {
   "cell_type": "code",
   "execution_count": null,
   "id": "bebe2dd3",
   "metadata": {},
   "outputs": [],
   "source": []
  },
  {
   "cell_type": "code",
   "execution_count": null,
   "id": "0c2282bb",
   "metadata": {},
   "outputs": [],
   "source": []
  },
  {
   "cell_type": "code",
   "execution_count": null,
   "id": "feca93a5",
   "metadata": {},
   "outputs": [],
   "source": []
  },
  {
   "cell_type": "code",
   "execution_count": null,
   "id": "b34418f2",
   "metadata": {},
   "outputs": [],
   "source": []
  },
  {
   "cell_type": "code",
   "execution_count": null,
   "id": "eebb11c2",
   "metadata": {},
   "outputs": [],
   "source": []
  },
  {
   "cell_type": "code",
   "execution_count": null,
   "id": "e94a3d21",
   "metadata": {},
   "outputs": [],
   "source": []
  },
  {
   "cell_type": "code",
   "execution_count": null,
   "id": "4e6b6ca9",
   "metadata": {},
   "outputs": [],
   "source": []
  }
 ],
 "metadata": {
  "kernelspec": {
   "display_name": "Python 3 (ipykernel)",
   "language": "python",
   "name": "python3"
  },
  "language_info": {
   "codemirror_mode": {
    "name": "ipython",
    "version": 3
   },
   "file_extension": ".py",
   "mimetype": "text/x-python",
   "name": "python",
   "nbconvert_exporter": "python",
   "pygments_lexer": "ipython3",
   "version": "3.8.10"
  }
 },
 "nbformat": 4,
 "nbformat_minor": 5
}
