{
 "cells": [
  {
   "cell_type": "code",
   "execution_count": 7,
   "id": "27043735",
   "metadata": {},
   "outputs": [
    {
     "name": "stdout",
     "output_type": "stream",
     "text": [
      "Total images:  1692\n",
      "Training:  1353\n",
      "Validation:  339\n",
      "Total images:  1927\n",
      "Training:  1541\n",
      "Validation:  386\n",
      "Total images:  1927\n",
      "Training:  1541\n",
      "Validation:  386\n",
      "Total images:  1880\n",
      "Training:  1504\n",
      "Validation:  376\n",
      "Total images:  1739\n",
      "Training:  1391\n",
      "Validation:  348\n",
      "Total images:  2068\n",
      "Training:  1654\n",
      "Validation:  414\n",
      "Total images:  2303\n",
      "Training:  1842\n",
      "Validation:  461\n",
      "Total images:  2162\n",
      "Training:  1729\n",
      "Validation:  433\n",
      "Total images:  2021\n",
      "Training:  1616\n",
      "Validation:  405\n",
      "Total images:  2102\n",
      "Training:  1681\n",
      "Validation:  421\n"
     ]
    }
   ],
   "source": [
    "import os\n",
    "\n",
    "import numpy as np\n",
    "\n",
    "import shutil\n",
    "\n",
    "rootdir= \"C:\\\\Users\\\\rajno\\\\Desktop\\\\pokemon-detection-and-classification\\\\data\\\\temp\"\n",
    "\n",
    "classes = ['Abra', 'Arcanine', 'Bulbasaur','Ditto', 'Eevee', 'Gastly', 'Gengar', 'Jigglypuff', 'Pikachu', 'Other']\n",
    "\n",
    "ratio = 0.20\n",
    "    \n",
    "for i in classes:\n",
    "\n",
    "    os.makedirs(rootdir +'/train/' + i)\n",
    "\n",
    "    #os.makedirs(rootdir +'/test/' + i)\n",
    "\n",
    "    os.makedirs(rootdir +'/validation/' + i)\n",
    "\n",
    "    source = rootdir + '/' + i\n",
    "\n",
    "    allFileNames = os.listdir(source)\n",
    "\n",
    "    np.random.shuffle(allFileNames)\n",
    "\n",
    "    train_FileNames, validation_FileNames = np.split(np.array(allFileNames),\n",
    "                                                [int(len(allFileNames)* (1 - ratio))])\n",
    "\n",
    "\n",
    "    train_FileNames = [source+'/'+ name for name in train_FileNames.tolist()]\n",
    "    #test_FileNames = [source+'/' + name for name in test_FileNames.tolist()]\n",
    "    validation_FileNames = [source+'/' + name for name in validation_FileNames.tolist()]\n",
    "    \n",
    "    print('Total images: ', len(allFileNames))\n",
    "    print('Training: ', len(train_FileNames))\n",
    "    print('Validation: ', len(validation_FileNames))\n",
    "    #print('Testing: ', len(test_FileNames))\n",
    "\n",
    "    for name in train_FileNames:\n",
    "      shutil.copy(name, rootdir +'/train/' + i)\n",
    "\n",
    "    #for name in test_FileNames:\n",
    "      #shutil.copy(name, rootdir +'/test/' + i)\n",
    "\n",
    "    for name in validation_FileNames:\n",
    "      shutil.copy(name, rootdir +'/validation/' + i)"
   ]
  },
  {
   "cell_type": "code",
   "execution_count": null,
   "id": "7d8f199a",
   "metadata": {},
   "outputs": [],
   "source": []
  }
 ],
 "metadata": {
  "kernelspec": {
   "display_name": "Python 3 (ipykernel)",
   "language": "python",
   "name": "python3"
  },
  "language_info": {
   "codemirror_mode": {
    "name": "ipython",
    "version": 3
   },
   "file_extension": ".py",
   "mimetype": "text/x-python",
   "name": "python",
   "nbconvert_exporter": "python",
   "pygments_lexer": "ipython3",
   "version": "3.9.7"
  }
 },
 "nbformat": 4,
 "nbformat_minor": 5
}
